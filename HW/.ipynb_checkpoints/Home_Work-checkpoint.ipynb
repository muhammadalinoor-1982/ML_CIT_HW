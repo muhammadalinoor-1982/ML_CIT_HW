{
 "cells": [
  {
   "cell_type": "markdown",
   "id": "9199a8c4-7d2d-4f5c-be61-c96ce35d9a3b",
   "metadata": {},
   "source": [
    "# Home Work"
   ]
  },
  {
   "cell_type": "markdown",
   "id": "e5a2037d-f724-4697-ad9d-19eda8f3a277",
   "metadata": {},
   "source": [
    "Class start from 15/10/2023"
   ]
  },
  {
   "cell_type": "markdown",
   "id": "4c5a8cc9-37bd-4d7a-8e31-ac6148de2972",
   "metadata": {},
   "source": [
    "# Class#02 21/10/2023 Topic: Variables, Arithmetic, Comparison and Assignment Operators"
   ]
  },
  {
   "cell_type": "markdown",
   "id": "a6a3fe7c-a1e0-4326-aadc-02c13dfac183",
   "metadata": {},
   "source": [
    "Variables"
   ]
  },
  {
   "cell_type": "code",
   "execution_count": 10,
   "id": "1f30e9e5-d08f-4a70-b8dc-499dd4ab7a3f",
   "metadata": {},
   "outputs": [
    {
     "name": "stdout",
     "output_type": "stream",
     "text": [
      "5\n"
     ]
    }
   ],
   "source": [
    "var = 5\n",
    "print(var)"
   ]
  },
  {
   "cell_type": "markdown",
   "id": "279c0bc7-20ec-4e4a-8063-fe2c54afad51",
   "metadata": {},
   "source": [
    "Rule to Name a Variable"
   ]
  },
  {
   "cell_type": "markdown",
   "id": "ef2728d9-5bbd-4cc3-a076-bbffad4ccd3e",
   "metadata": {},
   "source": [
    "1. First Char Alphabet- Capital or Small (Mandatory)\n",
    "2. Digit or Special Char (*<^$#&%?!><|/) are not allowed as first char\n",
    "3. Digit are allowed in between - v1ar, var1, var_1, var_123\n",
    "4. Special Chars are not allowed in the name of the variable Except _\n",
    "5. Var name can start using _ as well "
   ]
  },
  {
   "cell_type": "markdown",
   "id": "dacfedc4-7868-4b2f-95e3-ca7f3307e050",
   "metadata": {},
   "source": [
    "Arithmetic Operators"
   ]
  },
  {
   "cell_type": "code",
   "execution_count": 8,
   "id": "7c1bdd8e-7d09-4302-9ffb-cc3bef4bb7c7",
   "metadata": {},
   "outputs": [
    {
     "name": "stdout",
     "output_type": "stream",
     "text": [
      "4\n",
      "1\n",
      "10\n",
      "5.0\n",
      "5\n",
      "2\n",
      "16\n"
     ]
    }
   ],
   "source": [
    "# Addition\n",
    "print(2+2)\n",
    "\n",
    "#substruction\n",
    "print(4-3)\n",
    "\n",
    "#multiplication\n",
    "print(5*2)\n",
    "\n",
    "#division\n",
    "print(10/2)\n",
    "\n",
    "#floor division\n",
    "print(10//2)\n",
    "\n",
    "#reminder\n",
    "print(10%4)\n",
    "\n",
    "#power\n",
    "print(2**4)"
   ]
  },
  {
   "cell_type": "markdown",
   "id": "ec0d4179-33f2-4b0f-b025-2805021d47ff",
   "metadata": {},
   "source": [
    "Comparison Operators"
   ]
  },
  {
   "cell_type": "code",
   "execution_count": 3,
   "id": "4dc9f8fc-cb3a-48a6-8b0f-40512ec6fe4d",
   "metadata": {},
   "outputs": [],
   "source": [
    "a=5\n",
    "b=10"
   ]
  },
  {
   "cell_type": "code",
   "execution_count": 14,
   "id": "9d1a7df6-fa15-4a35-b5a8-80f9e54246bf",
   "metadata": {},
   "outputs": [
    {
     "data": {
      "text/plain": [
       "False"
      ]
     },
     "execution_count": 14,
     "metadata": {},
     "output_type": "execute_result"
    }
   ],
   "source": [
    "a>b"
   ]
  },
  {
   "cell_type": "code",
   "execution_count": 16,
   "id": "a077e056-4f97-47bb-831a-09e46c522276",
   "metadata": {},
   "outputs": [
    {
     "data": {
      "text/plain": [
       "True"
      ]
     },
     "execution_count": 16,
     "metadata": {},
     "output_type": "execute_result"
    }
   ],
   "source": [
    "a<b"
   ]
  },
  {
   "cell_type": "code",
   "execution_count": 18,
   "id": "a536dd09-7b31-4430-ad70-08117815cae8",
   "metadata": {},
   "outputs": [
    {
     "data": {
      "text/plain": [
       "False"
      ]
     },
     "execution_count": 18,
     "metadata": {},
     "output_type": "execute_result"
    }
   ],
   "source": [
    "a>=b"
   ]
  },
  {
   "cell_type": "code",
   "execution_count": 20,
   "id": "1e3bd563-027e-428c-98bf-cb1cf4ea8b8c",
   "metadata": {},
   "outputs": [
    {
     "data": {
      "text/plain": [
       "False"
      ]
     },
     "execution_count": 20,
     "metadata": {},
     "output_type": "execute_result"
    }
   ],
   "source": [
    "a==b"
   ]
  },
  {
   "cell_type": "code",
   "execution_count": 24,
   "id": "15b06655-15bf-496f-992c-46f51b947a00",
   "metadata": {},
   "outputs": [
    {
     "data": {
      "text/plain": [
       "True"
      ]
     },
     "execution_count": 24,
     "metadata": {},
     "output_type": "execute_result"
    }
   ],
   "source": [
    "a!=b "
   ]
  },
  {
   "cell_type": "markdown",
   "id": "f37e6399-23ce-4ce8-9ed4-dd0381c50923",
   "metadata": {},
   "source": [
    "Assignment Operator"
   ]
  },
  {
   "cell_type": "raw",
   "id": "5727518f-e1c0-4b28-9b74-51221e5d8cbb",
   "metadata": {},
   "source": [
    "x = 5 \n",
    "x += 5\n",
    "x -= 5\n",
    "x *= 5\n",
    "x /= 5\n",
    "x //= 5\n",
    "x %= 5\n",
    "x **= 5"
   ]
  },
  {
   "cell_type": "markdown",
   "id": "aad7a6ee-0b25-48bd-879a-43025ddbd5c9",
   "metadata": {
    "tags": []
   },
   "source": [
    "# Class#03 13/11/2023 Topic: Logical Operator, List and FW/BW Indexing of a List"
   ]
  },
  {
   "cell_type": "markdown",
   "id": "e944468b-8308-4d64-8656-27b3aa478998",
   "metadata": {},
   "source": [
    "Logical Operator"
   ]
  },
  {
   "cell_type": "code",
   "execution_count": 26,
   "id": "c2fe2025-b522-49c6-9e23-06850feabeb5",
   "metadata": {},
   "outputs": [
    {
     "data": {
      "text/plain": [
       "True"
      ]
     },
     "execution_count": 26,
     "metadata": {},
     "output_type": "execute_result"
    }
   ],
   "source": [
    "a<b and a<=b"
   ]
  },
  {
   "cell_type": "code",
   "execution_count": 4,
   "id": "4a6cc47d-a162-443e-ba22-e6e8d049eb59",
   "metadata": {},
   "outputs": [
    {
     "data": {
      "text/plain": [
       "True"
      ]
     },
     "execution_count": 4,
     "metadata": {},
     "output_type": "execute_result"
    }
   ],
   "source": [
    "a<b or b>a"
   ]
  },
  {
   "cell_type": "code",
   "execution_count": 6,
   "id": "59098efd-8378-4fd9-8719-bfc3e921eb45",
   "metadata": {},
   "outputs": [
    {
     "data": {
      "text/plain": [
       "False"
      ]
     },
     "execution_count": 6,
     "metadata": {},
     "output_type": "execute_result"
    }
   ],
   "source": [
    "not b>a"
   ]
  },
  {
   "cell_type": "code",
   "execution_count": 8,
   "id": "26d06557-cb1a-4dd6-9a05-3748c0751631",
   "metadata": {},
   "outputs": [
    {
     "data": {
      "text/plain": [
       "True"
      ]
     },
     "execution_count": 8,
     "metadata": {},
     "output_type": "execute_result"
    }
   ],
   "source": [
    "5 in (5,6,7,8,9)"
   ]
  },
  {
   "cell_type": "code",
   "execution_count": 10,
   "id": "18043eb8-dee1-41c4-94e0-337ea3eb1186",
   "metadata": {},
   "outputs": [
    {
     "data": {
      "text/plain": [
       "False"
      ]
     },
     "execution_count": 10,
     "metadata": {},
     "output_type": "execute_result"
    }
   ],
   "source": [
    "5 not in (5,6,7,8,9)"
   ]
  },
  {
   "cell_type": "markdown",
   "id": "565fbea1-9256-407f-896c-a7fa59382f22",
   "metadata": {},
   "source": [
    "Data Types"
   ]
  },
  {
   "cell_type": "raw",
   "id": "95893ff4-e109-4dc4-a026-c086bbcab71c",
   "metadata": {},
   "source": [
    "int        45,87,45,897,644\n",
    "float      654.65, 5468.354,5648.889,8798789.9878779\n",
    "string     \"Hellow\", \"Banana\", \"Green\", \"jhon\",'5','d','&&&',\"85\"\n",
    "bool       True,False\n"
   ]
  },
  {
   "cell_type": "code",
   "execution_count": 8,
   "id": "1ee195f7-5989-4529-ab2f-6ab27ea15c25",
   "metadata": {},
   "outputs": [
    {
     "data": {
      "text/plain": [
       "str"
      ]
     },
     "execution_count": 8,
     "metadata": {},
     "output_type": "execute_result"
    }
   ],
   "source": [
    "var = '55.5'\n",
    "type(var)"
   ]
  },
  {
   "cell_type": "code",
   "execution_count": 11,
   "id": "0df2de85-6613-4a06-81b5-61d499f58bed",
   "metadata": {},
   "outputs": [
    {
     "data": {
      "text/plain": [
       "55.5"
      ]
     },
     "execution_count": 11,
     "metadata": {},
     "output_type": "execute_result"
    }
   ],
   "source": [
    "float(var)"
   ]
  },
  {
   "cell_type": "code",
   "execution_count": 13,
   "id": "894d9d8e-b565-4839-aa88-277e4f919157",
   "metadata": {},
   "outputs": [
    {
     "data": {
      "text/plain": [
       "55"
      ]
     },
     "execution_count": 13,
     "metadata": {},
     "output_type": "execute_result"
    }
   ],
   "source": [
    "int(float(var))"
   ]
  },
  {
   "cell_type": "markdown",
   "id": "c338f84c-2a70-4fb1-960e-70abb3b449ae",
   "metadata": {},
   "source": [
    "Data Structure "
   ]
  },
  {
   "cell_type": "raw",
   "id": "d7de6aa5-83de-42a3-86ff-e9e0b3be6fa3",
   "metadata": {},
   "source": [
    "1. List\n",
    "2. Tuple\n",
    "3. Set\n",
    "4. Dictionary "
   ]
  },
  {
   "cell_type": "markdown",
   "id": "64260bf5-2262-4502-a74a-61311113572f",
   "metadata": {},
   "source": [
    "List"
   ]
  },
  {
   "cell_type": "code",
   "execution_count": 2,
   "id": "02fa1cf5-cad2-4711-887f-c12fe4d334c6",
   "metadata": {
    "tags": []
   },
   "outputs": [
    {
     "data": {
      "text/plain": [
       "14"
      ]
     },
     "execution_count": 2,
     "metadata": {},
     "output_type": "execute_result"
    }
   ],
   "source": [
    "#         0  1  2  3  4  5  6  7  8  9 10 11 12 13   Index\n",
    "marks = [41,66,29,59,26,63,69,45,93,23,53,25,20,56]\n",
    "#       -14-13-12-11-10 -9 -8 -7 -6 -5 -4 -3 -2 -1   Negative index                     \n",
    "len(marks)"
   ]
  },
  {
   "cell_type": "code",
   "execution_count": 27,
   "id": "a8ede6c2-7a91-4d62-ae7b-2d79e77d240c",
   "metadata": {},
   "outputs": [
    {
     "data": {
      "text/plain": [
       "41"
      ]
     },
     "execution_count": 27,
     "metadata": {},
     "output_type": "execute_result"
    }
   ],
   "source": [
    "marks[-14]"
   ]
  },
  {
   "cell_type": "code",
   "execution_count": 3,
   "id": "28e30592-2399-489c-a9a3-ab85139f6235",
   "metadata": {},
   "outputs": [
    {
     "data": {
      "text/plain": [
       "12"
      ]
     },
     "execution_count": 3,
     "metadata": {},
     "output_type": "execute_result"
    }
   ],
   "source": [
    "marks.index(20)"
   ]
  },
  {
   "cell_type": "markdown",
   "id": "a202fddb-4e92-411a-bd7e-522eaa29e73a",
   "metadata": {},
   "source": [
    "Equation: List [start_index : end_index + 1 : intrval + 1]  Note: Interval use for Skipping values"
   ]
  },
  {
   "cell_type": "code",
   "execution_count": 36,
   "id": "7782f262-c792-43be-9a64-b1127857c884",
   "metadata": {},
   "outputs": [
    {
     "data": {
      "text/plain": [
       "[63, 45, 23]"
      ]
     },
     "execution_count": 36,
     "metadata": {},
     "output_type": "execute_result"
    }
   ],
   "source": [
    "marks[5:10:2]"
   ]
  },
  {
   "cell_type": "markdown",
   "id": "0dcab7e7-122a-4bc9-b539-008d8b217d6e",
   "metadata": {},
   "source": [
    "An Exception for Negative indexing:     List [start_index : end_index - 1 : intrval - 1] "
   ]
  },
  {
   "cell_type": "code",
   "execution_count": 3,
   "id": "e51e43ed-fa63-4a2e-a379-5bd5d3a8cd0b",
   "metadata": {
    "tags": []
   },
   "outputs": [
    {
     "data": {
      "text/plain": [
       "[20, 53, 93]"
      ]
     },
     "execution_count": 3,
     "metadata": {},
     "output_type": "execute_result"
    }
   ],
   "source": [
    "marks[-2:-7:-2]"
   ]
  },
  {
   "cell_type": "markdown",
   "id": "dd2a427e-323d-4d28-9a99-2a74f3f225c2",
   "metadata": {},
   "source": [
    "# Class#04 Date: 16/11/2023"
   ]
  },
  {
   "cell_type": "raw",
   "id": "e04fd905-532b-4d4c-9b62-d917475d9174",
   "metadata": {},
   "source": [
    "sum, min, max, count, mean, len, type"
   ]
  },
  {
   "cell_type": "code",
   "execution_count": 4,
   "id": "b943dd46-f8fe-453e-a7f2-bc0aa1ed4be7",
   "metadata": {
    "tags": []
   },
   "outputs": [],
   "source": [
    "marks = [41,66,29,59,26,63,69,45,93,23,53,25,20,56]"
   ]
  },
  {
   "cell_type": "code",
   "execution_count": 5,
   "id": "97bd0a78-2739-4dcb-b62b-8c24c9d2d655",
   "metadata": {
    "tags": []
   },
   "outputs": [
    {
     "data": {
      "text/plain": [
       "668"
      ]
     },
     "execution_count": 5,
     "metadata": {},
     "output_type": "execute_result"
    }
   ],
   "source": [
    "sum(marks)"
   ]
  },
  {
   "cell_type": "code",
   "execution_count": 6,
   "id": "9b59e394-485a-4f97-bcb3-18649028c871",
   "metadata": {
    "tags": []
   },
   "outputs": [
    {
     "data": {
      "text/plain": [
       "20"
      ]
     },
     "execution_count": 6,
     "metadata": {},
     "output_type": "execute_result"
    }
   ],
   "source": [
    "min(marks)"
   ]
  },
  {
   "cell_type": "code",
   "execution_count": 7,
   "id": "54b3485e-5205-4757-875b-42acad875816",
   "metadata": {
    "tags": []
   },
   "outputs": [
    {
     "data": {
      "text/plain": [
       "93"
      ]
     },
     "execution_count": 7,
     "metadata": {},
     "output_type": "execute_result"
    }
   ],
   "source": [
    "max(marks)"
   ]
  },
  {
   "cell_type": "code",
   "execution_count": 8,
   "id": "21e9a1fe-4e9e-4a7f-9acd-fafaed682a19",
   "metadata": {
    "tags": []
   },
   "outputs": [
    {
     "data": {
      "text/plain": [
       "14"
      ]
     },
     "execution_count": 8,
     "metadata": {},
     "output_type": "execute_result"
    }
   ],
   "source": [
    "len(marks)"
   ]
  },
  {
   "cell_type": "code",
   "execution_count": 10,
   "id": "fe434d6b-5318-4f47-85d4-f9a46ebe74ce",
   "metadata": {
    "tags": []
   },
   "outputs": [
    {
     "data": {
      "text/plain": [
       "47.714285714285715"
      ]
     },
     "execution_count": 10,
     "metadata": {},
     "output_type": "execute_result"
    }
   ],
   "source": [
    "sum(marks)/14"
   ]
  },
  {
   "cell_type": "code",
   "execution_count": 12,
   "id": "a676efc8-ae73-4a3f-b029-905c183f142c",
   "metadata": {
    "tags": []
   },
   "outputs": [
    {
     "data": {
      "text/plain": [
       "1"
      ]
     },
     "execution_count": 12,
     "metadata": {},
     "output_type": "execute_result"
    }
   ],
   "source": [
    "marks.count(63)"
   ]
  },
  {
   "cell_type": "raw",
   "id": "7a8bc02e-3624-46b1-a7f9-145d05771e2f",
   "metadata": {},
   "source": [
    "List is Mutable(Changable)"
   ]
  },
  {
   "cell_type": "raw",
   "id": "adbb8138-ba9a-44db-b1a5-2c6e9729a48d",
   "metadata": {},
   "source": [
    "Add: 1) Append 2) Insert 3) Extend"
   ]
  },
  {
   "cell_type": "code",
   "execution_count": 13,
   "id": "853a6eb8-4695-478a-9b76-6edad6d67a09",
   "metadata": {
    "tags": []
   },
   "outputs": [
    {
     "data": {
      "text/plain": [
       "[41, 66, 29, 59, 26, 63, 69, 45, 93, 23, 53, 25, 20, 56]"
      ]
     },
     "execution_count": 13,
     "metadata": {},
     "output_type": "execute_result"
    }
   ],
   "source": [
    "marks"
   ]
  },
  {
   "cell_type": "code",
   "execution_count": 15,
   "id": "94d59918-396c-4e2f-bf01-42a05b8cce40",
   "metadata": {
    "tags": []
   },
   "outputs": [],
   "source": [
    "marks.append(100)"
   ]
  },
  {
   "cell_type": "code",
   "execution_count": 16,
   "id": "928471c8-604f-47fb-9c1f-e6839794e542",
   "metadata": {
    "tags": []
   },
   "outputs": [
    {
     "data": {
      "text/plain": [
       "[41, 66, 29, 59, 26, 63, 69, 45, 93, 23, 53, 25, 20, 56, 100, 100]"
      ]
     },
     "execution_count": 16,
     "metadata": {},
     "output_type": "execute_result"
    }
   ],
   "source": [
    "marks"
   ]
  },
  {
   "cell_type": "code",
   "execution_count": 18,
   "id": "99d3c350-cc01-4b4a-a2b8-b366d8caa9c2",
   "metadata": {
    "tags": []
   },
   "outputs": [],
   "source": [
    "marks.insert(2,100)"
   ]
  },
  {
   "cell_type": "code",
   "execution_count": 20,
   "id": "d5c49d65-8f2f-4daf-a8fe-deb175693c91",
   "metadata": {
    "tags": []
   },
   "outputs": [
    {
     "data": {
      "text/plain": [
       "[41, 66, 100, 100, 29, 59, 26, 63, 69, 45, 93, 23, 53, 25, 20, 56, 100, 100]"
      ]
     },
     "execution_count": 20,
     "metadata": {},
     "output_type": "execute_result"
    }
   ],
   "source": [
    "marks"
   ]
  },
  {
   "cell_type": "raw",
   "id": "6a0e7778-2f79-4c9f-af6c-24fd68cb0a16",
   "metadata": {
    "tags": []
   },
   "source": [
    "Remove: 1) Remove 2) POP 3) Del 4) Clear"
   ]
  },
  {
   "cell_type": "code",
   "execution_count": 23,
   "id": "8499c247-a835-4e21-b441-6b9d17393082",
   "metadata": {
    "tags": []
   },
   "outputs": [
    {
     "data": {
      "text/plain": [
       "[41, 66, 100, 100, 29, 59, 26, 63, 69, 45, 93, 23, 53, 25, 20, 56, 100, 100]"
      ]
     },
     "execution_count": 23,
     "metadata": {},
     "output_type": "execute_result"
    }
   ],
   "source": [
    "marks1 = marks\n",
    "marks1"
   ]
  },
  {
   "cell_type": "code",
   "execution_count": 25,
   "id": "205fbeb0-63da-40ba-802a-256aeabe5e34",
   "metadata": {
    "tags": []
   },
   "outputs": [
    {
     "data": {
      "text/plain": [
       "[41, 66, 29, 59, 26, 63, 69, 45, 93, 23, 53, 25, 20, 56, 100, 100]"
      ]
     },
     "execution_count": 25,
     "metadata": {},
     "output_type": "execute_result"
    }
   ],
   "source": [
    "marks1.remove(100) # Remove through elements\n",
    "marks1"
   ]
  },
  {
   "cell_type": "code",
   "execution_count": 27,
   "id": "479d03af-aead-40a5-852c-2fc85904d75d",
   "metadata": {
    "tags": []
   },
   "outputs": [
    {
     "data": {
      "text/plain": [
       "16"
      ]
     },
     "execution_count": 27,
     "metadata": {},
     "output_type": "execute_result"
    }
   ],
   "source": [
    "len(marks1)"
   ]
  },
  {
   "cell_type": "code",
   "execution_count": 29,
   "id": "9ae7880d-7a76-4407-8c26-c08a083c5262",
   "metadata": {
    "tags": []
   },
   "outputs": [
    {
     "data": {
      "text/plain": [
       "[41, 66, 29, 59, 26, 63, 69, 45, 93, 23, 53, 25, 20, 56, 100]"
      ]
     },
     "execution_count": 29,
     "metadata": {},
     "output_type": "execute_result"
    }
   ],
   "source": [
    "marks1.pop(15)  # Remove through Index position\n",
    "marks1"
   ]
  },
  {
   "cell_type": "code",
   "execution_count": 30,
   "id": "44a467b4-45d2-4be4-bab4-cc112a2b16c9",
   "metadata": {
    "tags": []
   },
   "outputs": [
    {
     "data": {
      "text/plain": [
       "[41, 66, 63, 69, 45, 93, 23, 53, 25, 20, 56, 100]"
      ]
     },
     "execution_count": 30,
     "metadata": {},
     "output_type": "execute_result"
    }
   ],
   "source": [
    "del marks1[2:5]  # Slice Remove through Index position\n",
    "marks1"
   ]
  },
  {
   "cell_type": "code",
   "execution_count": 32,
   "id": "c7583c9f-34c8-4db0-853b-d7f0df95eb6c",
   "metadata": {
    "tags": []
   },
   "outputs": [
    {
     "data": {
      "text/plain": [
       "[]"
      ]
     },
     "execution_count": 32,
     "metadata": {},
     "output_type": "execute_result"
    }
   ],
   "source": [
    "marks1.clear() #Empty List\n",
    "marks1"
   ]
  },
  {
   "cell_type": "code",
   "execution_count": 34,
   "id": "a07b65d9-5d4f-4822-9e39-d6a3e3457a10",
   "metadata": {
    "tags": []
   },
   "outputs": [
    {
     "ename": "NameError",
     "evalue": "name 'marks1' is not defined",
     "output_type": "error",
     "traceback": [
      "\u001b[1;31m---------------------------------------------------------------------------\u001b[0m",
      "\u001b[1;31mNameError\u001b[0m                                 Traceback (most recent call last)",
      "Cell \u001b[1;32mIn[34], line 1\u001b[0m\n\u001b[1;32m----> 1\u001b[0m \u001b[38;5;28;01mdel\u001b[39;00m marks1 \u001b[38;5;66;03m# Delete whole List Conteiner \u001b[39;00m\n\u001b[0;32m      2\u001b[0m marks1\n",
      "\u001b[1;31mNameError\u001b[0m: name 'marks1' is not defined"
     ]
    }
   ],
   "source": [
    "del marks1 # Delete whole List Conteiner \n",
    "marks1"
   ]
  },
  {
   "cell_type": "code",
   "execution_count": 47,
   "id": "f3fb174d-702c-4e75-a7b9-ed9143565fb5",
   "metadata": {
    "tags": []
   },
   "outputs": [],
   "source": [
    "marks = [41,66,29,59,26,63,69,45,93,23,53,25,20,56]"
   ]
  },
  {
   "cell_type": "code",
   "execution_count": 50,
   "id": "ad518676-b56d-4f27-ac66-52982c2cf4f4",
   "metadata": {
    "tags": []
   },
   "outputs": [
    {
     "data": {
      "text/plain": [
       "[41, 66, 29, 59, 26, 63, 69, 45, 93, 23, 53, 25, 20, 56]"
      ]
     },
     "execution_count": 50,
     "metadata": {},
     "output_type": "execute_result"
    }
   ],
   "source": [
    "marks1 = marks\n",
    "marks1"
   ]
  },
  {
   "cell_type": "code",
   "execution_count": 51,
   "id": "3cd71be1-a3b9-485e-85a0-fb0dd01cfac6",
   "metadata": {
    "tags": []
   },
   "outputs": [
    {
     "data": {
      "text/plain": [
       "[3, 6, 9, 41, 66, 29, 59, 26, 63, 69, 45, 93, 23, 53, 25, 20, 56]"
      ]
     },
     "execution_count": 51,
     "metadata": {},
     "output_type": "execute_result"
    }
   ],
   "source": [
    "marks = [3,6,9]\n",
    "marks.extend(marks1)\n",
    "marks"
   ]
  },
  {
   "cell_type": "raw",
   "id": "77fc882e-3745-4473-98fd-37bfc463afc1",
   "metadata": {
    "tags": []
   },
   "source": [
    "List and Tuple are almost same except immutable. Tuple Can not Change the value of variable\n",
    "It is one of the most least function of python"
   ]
  },
  {
   "cell_type": "code",
   "execution_count": 53,
   "id": "44151056-d02c-4d85-bce7-faf29d11e1be",
   "metadata": {
    "tags": []
   },
   "outputs": [
    {
     "data": {
      "text/plain": [
       "tuple"
      ]
     },
     "execution_count": 53,
     "metadata": {},
     "output_type": "execute_result"
    }
   ],
   "source": [
    "var = (7,8,9,4,5,6)\n",
    "type(var)"
   ]
  },
  {
   "cell_type": "code",
   "execution_count": 54,
   "id": "71dac1ad-905f-4c73-a74d-d37fcc981f7f",
   "metadata": {
    "tags": []
   },
   "outputs": [
    {
     "data": {
      "text/plain": [
       "([6, 7, 8], 1, 2, 3)"
      ]
     },
     "execution_count": 54,
     "metadata": {},
     "output_type": "execute_result"
    }
   ],
   "source": [
    "var = ([6,7,8], 1, 2, 3)\n",
    "var"
   ]
  },
  {
   "cell_type": "code",
   "execution_count": 55,
   "id": "801d0dcf-8d08-4a5c-aff6-113a84215ac9",
   "metadata": {
    "tags": []
   },
   "outputs": [
    {
     "data": {
      "text/plain": [
       "([6, 7, 88], 1, 2, 3)"
      ]
     },
     "execution_count": 55,
     "metadata": {},
     "output_type": "execute_result"
    }
   ],
   "source": [
    "var[0][2]=88\n",
    "var"
   ]
  },
  {
   "cell_type": "raw",
   "id": "95a7fdce-df06-4ad9-bedb-e826fc96c7e6",
   "metadata": {},
   "source": [
    "\n",
    "\n",
    "Set: \n",
    "Unordered\n",
    "Unique\n",
    "indexing not supported\n",
    "slicing not supported\n",
    "mutable\n",
    "\n",
    "List: \n",
    "Ordered\n",
    "dublicate supported\n",
    "indexing\n",
    "slicing\n",
    "mutable\n"
   ]
  },
  {
   "cell_type": "code",
   "execution_count": 4,
   "id": "1378510c-76a4-4524-bb81-cede0270a820",
   "metadata": {
    "tags": []
   },
   "outputs": [
    {
     "data": {
      "text/plain": [
       "{3}"
      ]
     },
     "execution_count": 4,
     "metadata": {},
     "output_type": "execute_result"
    }
   ],
   "source": [
    "s1 = {1,2,3}\n",
    "s2 = {3,4,5}\n",
    "s1.intersection(s2)"
   ]
  },
  {
   "cell_type": "code",
   "execution_count": 60,
   "id": "484bee5e-f615-4883-8ae8-66db6200ea4c",
   "metadata": {
    "tags": []
   },
   "outputs": [
    {
     "data": {
      "text/plain": [
       "{1, 2, 3, 4, 5}"
      ]
     },
     "execution_count": 60,
     "metadata": {},
     "output_type": "execute_result"
    }
   ],
   "source": [
    "s1.union(s2)"
   ]
  },
  {
   "cell_type": "code",
   "execution_count": 61,
   "id": "c77d8414-c307-485d-a638-4774a93f77fd",
   "metadata": {
    "tags": []
   },
   "outputs": [
    {
     "data": {
      "text/plain": [
       "{1, 2}"
      ]
     },
     "execution_count": 61,
     "metadata": {},
     "output_type": "execute_result"
    }
   ],
   "source": [
    "s1.difference(s2)"
   ]
  },
  {
   "cell_type": "code",
   "execution_count": 6,
   "id": "d793cdc5-1d9f-48fc-8a77-1d5c4e1a8e7b",
   "metadata": {
    "tags": []
   },
   "outputs": [
    {
     "data": {
      "text/plain": [
       "{4, 5}"
      ]
     },
     "execution_count": 6,
     "metadata": {},
     "output_type": "execute_result"
    }
   ],
   "source": [
    "s2.difference(s1)"
   ]
  },
  {
   "cell_type": "markdown",
   "id": "f95d96b4-e5e1-4662-b4d4-ae4d14a58cb4",
   "metadata": {},
   "source": [
    "# Class#05 at 21/11/2023 Topic: Dictionary"
   ]
  },
  {
   "cell_type": "code",
   "execution_count": 12,
   "id": "36b4117e-e8da-4b10-b2ea-33a485816bec",
   "metadata": {
    "tags": []
   },
   "outputs": [
    {
     "data": {
      "text/plain": [
       "dict"
      ]
     },
     "execution_count": 12,
     "metadata": {},
     "output_type": "execute_result"
    }
   ],
   "source": [
    "dictionary = {11:19, 22:29, 33:39, 44:49, 55:59, 66:69, 77:79, 88:89, 99:99}\n",
    "type(dictionary)"
   ]
  },
  {
   "cell_type": "code",
   "execution_count": 16,
   "id": "a5800736-4460-4c4a-924e-36e2092ba252",
   "metadata": {
    "tags": []
   },
   "outputs": [
    {
     "data": {
      "text/plain": [
       "49"
      ]
     },
     "execution_count": 16,
     "metadata": {},
     "output_type": "execute_result"
    }
   ],
   "source": [
    "dictionary[44] # Print key's value"
   ]
  },
  {
   "cell_type": "code",
   "execution_count": 20,
   "id": "3d1c7227-b591-49e1-94ad-4471ddf91f28",
   "metadata": {
    "tags": []
   },
   "outputs": [
    {
     "data": {
      "text/plain": [
       "dict_keys([11, 22, 33, 44, 55, 66, 77, 88, 99])"
      ]
     },
     "execution_count": 20,
     "metadata": {},
     "output_type": "execute_result"
    }
   ],
   "source": [
    "dictionary.keys() # Show all Keys"
   ]
  },
  {
   "cell_type": "code",
   "execution_count": 22,
   "id": "01739ce1-0355-4de3-9673-8694511ae23d",
   "metadata": {
    "tags": []
   },
   "outputs": [
    {
     "data": {
      "text/plain": [
       "dict_values([19, 29, 39, 49, 59, 69, 79, 89, 99])"
      ]
     },
     "execution_count": 22,
     "metadata": {},
     "output_type": "execute_result"
    }
   ],
   "source": [
    "dictionary.values()  # Show all Values"
   ]
  },
  {
   "cell_type": "code",
   "execution_count": 26,
   "id": "ce26db3b-06b3-444b-bc2a-d81df8c84c61",
   "metadata": {
    "tags": []
   },
   "outputs": [
    {
     "data": {
      "text/plain": [
       "dict_items([(11, 19), (22, 29), (33, 39), (44, 49), (55, 59), (66, 69), (77, 79), (88, 89), (99, 99)])"
      ]
     },
     "execution_count": 26,
     "metadata": {},
     "output_type": "execute_result"
    }
   ],
   "source": [
    "dictionary.items() # How many key, value pear in the Dictionary"
   ]
  },
  {
   "cell_type": "code",
   "execution_count": 33,
   "id": "fc960299-c3ee-477f-b615-46f53e303cee",
   "metadata": {
    "tags": []
   },
   "outputs": [
    {
     "data": {
      "text/plain": [
       "{11: 900, 22: 29, 33: 39, 44: 49, 55: 59, 66: 69, 77: 79, 88: 89, 99: 99}"
      ]
     },
     "execution_count": 33,
     "metadata": {},
     "output_type": "execute_result"
    }
   ],
   "source": [
    "dictionary[11]=900 # If need to change any key's of value\n",
    "dictionary"
   ]
  },
  {
   "cell_type": "code",
   "execution_count": 35,
   "id": "e24b44aa-fb48-4733-83c3-549afbcaf447",
   "metadata": {
    "tags": []
   },
   "outputs": [
    {
     "data": {
      "text/plain": [
       "{22: 29, 33: 39, 44: 49, 55: 59, 66: 69, 77: 79, 88: 89, 99: 99}"
      ]
     },
     "execution_count": 35,
     "metadata": {},
     "output_type": "execute_result"
    }
   ],
   "source": [
    "dictionary1 = dictionary\n",
    "del dictionary1[11]  # if need to remove any pear of the dictionary\n",
    "dictionary1"
   ]
  },
  {
   "cell_type": "code",
   "execution_count": 37,
   "id": "d1e3322f-0048-4618-ac7d-f984cd4fa589",
   "metadata": {
    "tags": []
   },
   "outputs": [
    {
     "data": {
      "text/plain": [
       "{'a': 4,\n",
       " 6: 'b',\n",
       " 'c': 'd',\n",
       " 22: 29,\n",
       " 33: 39,\n",
       " 44: 49,\n",
       " 55: 59,\n",
       " 66: 69,\n",
       " 77: 79,\n",
       " 88: 89,\n",
       " 99: 99}"
      ]
     },
     "execution_count": 37,
     "metadata": {},
     "output_type": "execute_result"
    }
   ],
   "source": [
    "n_dict = {'a':4, 6:'b', 'c':'d'}\n",
    "n_dict.update(dictionary) # Add tow dictionary\n",
    "n_dict"
   ]
  },
  {
   "cell_type": "code",
   "execution_count": 41,
   "id": "5ca4921e-b495-4b1b-a36b-a07ad8def9f2",
   "metadata": {
    "tags": []
   },
   "outputs": [
    {
     "data": {
      "text/plain": [
       "{1: 'one'}"
      ]
     },
     "execution_count": 41,
     "metadata": {},
     "output_type": "execute_result"
    }
   ],
   "source": [
    "dub_key = {1:'one', 1.0:'one'}\n",
    "dub_key"
   ]
  },
  {
   "cell_type": "code",
   "execution_count": 49,
   "id": "0717dfb1-772c-4d35-b09f-38044bf99c50",
   "metadata": {
    "tags": []
   },
   "outputs": [
    {
     "data": {
      "text/plain": [
       "{1: 'one', 1.1: 'one'}"
      ]
     },
     "execution_count": 49,
     "metadata": {},
     "output_type": "execute_result"
    }
   ],
   "source": [
    "db_key = {1:'one', 1.1:'one'}\n",
    "db_key"
   ]
  },
  {
   "cell_type": "code",
   "execution_count": 55,
   "id": "01fa2885-d0af-44ca-bd92-ecb1b7bbb608",
   "metadata": {
    "tags": []
   },
   "outputs": [
    {
     "data": {
      "text/plain": [
       "{'girls': {'g1': {'p': 99, 'c': 55}, 'g2': 33, 'g3': 77},\n",
       " 'boys': {'b1': 22, 'b2': 11, 'b3': 99}}"
      ]
     },
     "execution_count": 55,
     "metadata": {},
     "output_type": "execute_result"
    }
   ],
   "source": [
    "classroom = {'girls':{'g1':{'p':99, 'c':55}, 'g2':33, 'g3':77}, 'boys':{'b1':22, 'b2':11, 'b3':99}}\n",
    "classroom"
   ]
  },
  {
   "cell_type": "code",
   "execution_count": 59,
   "id": "84bed5d5-fc10-4f0a-9a9f-b60fc5c23921",
   "metadata": {
    "tags": []
   },
   "outputs": [
    {
     "data": {
      "text/plain": [
       "{'girls': {'g1': {'p': 99, 'c': 66}, 'g2': 33, 'g3': 77},\n",
       " 'boys': {'b1': 22, 'b2': 11, 'b3': 99}}"
      ]
     },
     "execution_count": 59,
     "metadata": {},
     "output_type": "execute_result"
    }
   ],
   "source": [
    "classroom['girls']['g1']['c']=66 # How to change value of nested dictionary\n",
    "classroom"
   ]
  },
  {
   "cell_type": "markdown",
   "id": "3be782ce-2a96-431b-a99f-0c4f9a8c482d",
   "metadata": {},
   "source": [
    "# Class#06 26/11/2023 Topic: Loops and Conditons"
   ]
  },
  {
   "cell_type": "code",
   "execution_count": 69,
   "id": "322282a1-e3e8-4759-8c57-03bf94d4eb21",
   "metadata": {
    "tags": []
   },
   "outputs": [
    {
     "name": "stdin",
     "output_type": "stream",
     "text": [
      "mark:  59.9\n"
     ]
    },
    {
     "name": "stdout",
     "output_type": "stream",
     "text": [
      "Result is B\n"
     ]
    }
   ],
   "source": [
    "mark = float(input('mark: '))\n",
    "if mark>=90 and mark<=100:\n",
    "    print('Result is A+')\n",
    "elif mark<=89 and mark>=79:\n",
    "    print('Result is A')\n",
    "elif mark<79 and mark>=69:\n",
    "    print('Result is A-')\n",
    "elif mark<69 and mark>=59:\n",
    "    print('Result is B')\n",
    "elif mark<59 and mark>=49:\n",
    "    print('Result is C')\n",
    "elif mark<49 and mark>=0:\n",
    "    print('You are not Qualified')\n",
    "else:\n",
    "    print('invalid input...!!!!')"
   ]
  },
  {
   "cell_type": "code",
   "execution_count": null,
   "id": "9ff6aadf-a208-407a-8794-c1a7ed2067e7",
   "metadata": {
    "tags": []
   },
   "outputs": [],
   "source": []
  },
  {
   "cell_type": "code",
   "execution_count": null,
   "id": "0701f3fa-67f2-4221-8a98-3bc16dd0d13d",
   "metadata": {},
   "outputs": [],
   "source": []
  },
  {
   "cell_type": "code",
   "execution_count": null,
   "id": "213eae75-b974-4adb-96ce-9da001433db6",
   "metadata": {},
   "outputs": [],
   "source": []
  },
  {
   "cell_type": "code",
   "execution_count": null,
   "id": "0593820c-da72-4eb7-b1cb-e461c995cf31",
   "metadata": {},
   "outputs": [],
   "source": []
  },
  {
   "cell_type": "code",
   "execution_count": null,
   "id": "9838745a-b7ac-4e85-9188-7f02488242e6",
   "metadata": {},
   "outputs": [],
   "source": []
  }
 ],
 "metadata": {
  "kernelspec": {
   "display_name": "Python 3 (ipykernel)",
   "language": "python",
   "name": "python3"
  },
  "language_info": {
   "codemirror_mode": {
    "name": "ipython",
    "version": 3
   },
   "file_extension": ".py",
   "mimetype": "text/x-python",
   "name": "python",
   "nbconvert_exporter": "python",
   "pygments_lexer": "ipython3",
   "version": "3.11.5"
  },
  "widgets": {
   "application/vnd.jupyter.widget-state+json": {
    "state": {},
    "version_major": 2,
    "version_minor": 0
   }
  }
 },
 "nbformat": 4,
 "nbformat_minor": 5
}
